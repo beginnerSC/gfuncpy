{
 "cells": [
  {
   "cell_type": "markdown",
   "id": "01372228",
   "metadata": {},
   "source": [
    "# Developer Guide\n",
    "\n",
    "When you write developer guide or docs in this project, please be concise. "
   ]
  },
  {
   "cell_type": "markdown",
   "id": "ad4a06cc",
   "metadata": {},
   "source": [
    "## Dynamic Math Function Dispatch\n",
    "\n",
    "All univariate Numpy math functions (sin, cos, tan, exp, log, sqrt, etc.) are supported automatically, as GFuncPy uses Python's module-level `__getattr__` to catch calls like `gfuncpy.sin`. If the function exists in NumPy, it creates a wrapper that applies it to the grid values. No manual function definitions needed.\n",
    "\n",
    "If you define a custom function in GFuncPy with the same name as a NumPy function (e.g., `maximum`, `minimum`), you must explicitly import it in `__init__.py`. This prevents the dynamic dispatch mechanism from interfering and ensures your function is used instead of NumPy's version."
   ]
  },
  {
   "cell_type": "markdown",
   "id": "897e9fc8",
   "metadata": {},
   "source": [
    "### Usage\n",
    "\n",
    "Call any NumPy math function from `gfuncpy` on a `GridFunction` object, e.g. `gfuncpy.sin(x)`."
   ]
  },
  {
   "cell_type": "markdown",
   "id": "30f50150",
   "metadata": {},
   "source": [
    "## `max` and `min` Naming Issue\n",
    "\n",
    "The functions `max` and `min` in GFuncPy overwrite the names of Python's built-in `max` and `min`. Use these with caution, especially in code that also relies on the built-in versions. To avoid confusion or bugs, call them via the module (e.g., `gfuncpy.max`) if you want to use them with the built-in `max` and `min`."
   ]
  },
  {
   "cell_type": "markdown",
   "id": "bde8b42f",
   "metadata": {},
   "source": [
    "## Release Management Tip\n",
    "\n",
    "Before creating a new git tag for this project, always update the release number in both `docs/source/conf.py` and `pyproject.toml` to match the new version."
   ]
  },
  {
   "cell_type": "markdown",
   "id": "132fa26f",
   "metadata": {},
   "source": [
    "## Mathematics\n",
    "\n",
    "All mathematics below is written without assuming a uniform grid for the functions, and the current library code also works for non-uniform grids.\n",
    "\n",
    "### Trapezoid Rule for Indefinite Integral\n",
    "\n",
    "This is used in `GridFunction.integrate()`. Given grid function $\\{x_j\\}_{j=0}^n, \\{y_j\\}_{j=0}^n$, we derive the grid function of its integral, denoted by $\\{x_j\\}_{j=0}^n, \\{\\tilde y_j\\}_{j=0}^n$. To begin with, clearly we will have $\\tilde y_0 = 0$. \n",
    "\n",
    "Note that the area of the first small trapezoid is $(y_1 + y_0)(x_1 - x_0)/2$, and the area of the second small trapezoid is $(y_2 + y_1)(x_2 - x_1)/2$, and so on. Thus we have a list of small trapezoid areas\n",
    "\n",
    "\\begin{align*}\n",
    "0, \\quad\\frac{1}{2}(y_1 + y_0)(x_1 - x_0), \\quad\\frac{1}{2}(y_2 + y_1)(x_2 - x_1), \\quad\\ldots, \\quad\\frac{1}{2}(y_n + y_{n-1})(x_n - x_{n-1}), \n",
    "\\end{align*}\n",
    "\n",
    "the cumulative sum of which is the desired $\\{\\tilde y_j\\}_{j=0}^n$. "
   ]
  },
  {
   "cell_type": "markdown",
   "id": "2f8f3b47",
   "metadata": {},
   "source": [
    "## Notes on Design\n",
    "\n",
    "### The `Grid` Class\n",
    "\n",
    "In early versions `GridFunctions` simply store the $x$ and $y$ values in two Numpy arrays $x$ and $y$, but now the $x$ values are in a `Grid` object for\n",
    "- **Encapsulation:** Grid logic is separated from function values for clarity and maintainability\n",
    "- **Performance:** Grid differences are cached, avoiding repeated calculations in integral and differentition\n",
    "- **Extensibility:** Future grid features can be added without changing function code\n",
    "- **Cleaner API:** `GridFunction.x` gives the grid array, `GridFunction.grid` gives the grid object—no more `self.x.x`\n",
    "- **Consistency:** All grid-based operations use a single grid instance, reducing errors\n",
    "\n",
    "Extend the `Grid` class for grid logic; use `GridFunction.x` for the array and `GridFunction.grid` for advanced features. "
   ]
  }
 ],
 "metadata": {
  "kernelspec": {
   "display_name": "Python 3 (ipykernel)",
   "language": "python",
   "name": "python3"
  },
  "language_info": {
   "codemirror_mode": {
    "name": "ipython",
    "version": 3
   },
   "file_extension": ".py",
   "mimetype": "text/x-python",
   "name": "python",
   "nbconvert_exporter": "python",
   "pygments_lexer": "ipython3",
   "version": "3.12.4"
  }
 },
 "nbformat": 4,
 "nbformat_minor": 5
}
