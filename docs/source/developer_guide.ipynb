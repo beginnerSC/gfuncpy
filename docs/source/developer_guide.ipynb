{
 "cells": [
  {
   "cell_type": "markdown",
   "id": "01372228",
   "metadata": {},
   "source": [
    "# GFuncPy Developer Guide"
   ]
  },
  {
   "cell_type": "markdown",
   "id": "ad4a06cc",
   "metadata": {},
   "source": [
    "## Dynamic Math Function Dispatch\n",
    "\n",
    "All univariate Numpy math functions (sin, cos, tan, exp, log, sqrt, etc.) are supported automatically, as GFuncPy uses Python's module-level `__getattr__` to catch calls like `gfuncpy.sin`. If the function exists in NumPy, it creates a wrapper that applies it to the grid values. No manual function definitions needed."
   ]
  },
  {
   "cell_type": "markdown",
   "id": "897e9fc8",
   "metadata": {},
   "source": [
    "### Usage\n",
    "\n",
    "Call any NumPy math function from `gfuncpy` on a `GridFunction` object, e.g. `gfuncpy.sin(x)`."
   ]
  }
 ],
 "metadata": {
  "kernelspec": {
   "display_name": "gfuncpy-KO8cES5P-py3.12",
   "language": "python",
   "name": "python3"
  },
  "language_info": {
   "codemirror_mode": {
    "name": "ipython",
    "version": 3
   },
   "file_extension": ".py",
   "mimetype": "text/x-python",
   "name": "python",
   "nbconvert_exporter": "python",
   "pygments_lexer": "ipython3",
   "version": "3.12.4"
  }
 },
 "nbformat": 4,
 "nbformat_minor": 5
}
