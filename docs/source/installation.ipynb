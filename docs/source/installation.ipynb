{
 "cells": [
  {
   "cell_type": "markdown",
   "id": "c0dcc5ec",
   "metadata": {},
   "source": [
    "# Installation\n",
    "\n",
    "To install GFuncPy from PyPI, run:\n",
    "\n",
    "```bash\n",
    "pip install gfuncpy\n",
    "```\n",
    "\n",
    "## For Development or Local Testing\n",
    "\n",
    "To install the package locally for development:\n",
    "\n",
    "```bash\n",
    "git clone https://github.com/beginnersc/gfuncpy.git\n",
    "cd gfuncpy\n",
    "pip install -e .\n",
    "```\n",
    "\n",
    "## Compatibility\n",
    "\n",
    "- Python version: 3.12+\n",
    "- Platform: Cross-platform (Linux, macOS, Windows)"
   ]
  }
 ],
 "metadata": {
  "language_info": {
   "name": "python"
  }
 },
 "nbformat": 4,
 "nbformat_minor": 5
}
